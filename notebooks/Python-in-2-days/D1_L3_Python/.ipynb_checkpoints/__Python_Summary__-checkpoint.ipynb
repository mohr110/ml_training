{
 "cells": [
  {
   "cell_type": "markdown",
   "metadata": {
    "colab_type": "text",
    "id": "bOChJSNXtC9g"
   },
   "source": [
    "# Introduction to Python"
   ]
  },
  {
   "cell_type": "markdown",
   "metadata": {
    "colab_type": "text",
    "id": "OLIxEDq6VhvZ"
   },
   "source": [
    "In this lesson we will learn the basics of the Python programming language (version 3). We won't learn everything about Python but enough to do some basic machine learning.\n",
    "\n",
    "<img src=\"figures/python.png\" width=350>\n",
    "\n",
    "\n"
   ]
  },
  {
   "cell_type": "markdown",
   "metadata": {
    "colab_type": "text",
    "id": "VoMq0eFRvugb"
   },
   "source": [
    "#  Variables"
   ]
  },
  {
   "cell_type": "markdown",
   "metadata": {
    "colab_type": "text",
    "id": "qWro5T5qTJJL"
   },
   "source": [
    "Variables are objects in Python that can hold anything with numbers or text. Let's look at how to create some variables."
   ]
  },
  {
   "cell_type": "code",
   "execution_count": 1,
   "metadata": {
    "colab": {
     "base_uri": "https://localhost:8080/",
     "height": 34
    },
    "colab_type": "code",
    "id": "0-dXQiLlTIgz",
    "outputId": "38d1f8a5-b067-416b-b042-38a373624a8b"
   },
   "outputs": [
    {
     "name": "stdout",
     "output_type": "stream",
     "text": [
      "4\n"
     ]
    }
   ],
   "source": [
    "# Numerical example\n",
    "x = 4 #change 5 to 4\n",
    "print (x)"
   ]
  },
  {
   "cell_type": "code",
   "execution_count": 2,
   "metadata": {
    "colab": {
     "base_uri": "https://localhost:8080/",
     "height": 34
    },
    "colab_type": "code",
    "id": "5Ym0owFxTkjo",
    "outputId": "72c2781a-4435-4c21-b15a-4c070d47bd86"
   },
   "outputs": [
    {
     "name": "stdout",
     "output_type": "stream",
     "text": [
      "hello, Tom\n"
     ]
    }
   ],
   "source": [
    "# Text example\n",
    "message = \"hello, Tom\" #changed var name and string value\n",
    "print (message)"
   ]
  },
  {
   "cell_type": "code",
   "execution_count": 3,
   "metadata": {
    "colab": {
     "base_uri": "https://localhost:8080/",
     "height": 34
    },
    "colab_type": "code",
    "id": "1a4ZhMV1T1-0",
    "outputId": "0817e041-5f79-46d8-84cc-ee4aaea0eba2"
   },
   "outputs": [
    {
     "name": "stdout",
     "output_type": "stream",
     "text": [
      "7.0\n"
     ]
    }
   ],
   "source": [
    "# Variables can be used with each other\n",
    "a = 2.5\n",
    "b = 4.5\n",
    "c = a + b #changed a and b values to floats\n",
    "print (c)"
   ]
  },
  {
   "cell_type": "markdown",
   "metadata": {
    "colab_type": "text",
    "id": "nbKV4aTdUC1_"
   },
   "source": [
    "Variables can come in lots of different types. Even within numerical variables, you can have integers (int), floats (float), etc. All text based variables are of type string (str). We can see what type a variable is by printing its type."
   ]
  },
  {
   "cell_type": "code",
   "execution_count": 5,
   "metadata": {
    "colab": {
     "base_uri": "https://localhost:8080/",
     "height": 153
    },
    "colab_type": "code",
    "id": "c3NJmfO4Uc6V",
    "outputId": "04b91fa4-51af-48f4-e9ac-591b5bf3e714",
    "scrolled": true
   },
   "outputs": [
    {
     "name": "stdout",
     "output_type": "stream",
     "text": [
      "100\n",
      "<class 'int'>\n",
      "6.542\n",
      "<class 'float'>\n",
      "text string\n",
      "<class 'str'>\n",
      "False\n",
      "<class 'bool'>\n"
     ]
    }
   ],
   "source": [
    "# int variable\n",
    "num_int = 100\n",
    "print (num_int)\n",
    "print (type(num_int)) #changed var name and value \n",
    "\n",
    "# float variable\n",
    "num_float = 6.542\n",
    "print (num_float)\n",
    "print (type(num_float)) #changed var name and value\n",
    "\n",
    "# text variable\n",
    "x = \"text string\"\n",
    "print (x)\n",
    "print (type(x)) #changed string value\n",
    "\n",
    "# boolean variable\n",
    "boolx = False\n",
    "print (boolx)\n",
    "print (type(boolx)) #changed var name and value"
   ]
  },
  {
   "cell_type": "markdown",
   "metadata": {
    "colab_type": "text",
    "id": "6HPtavfdU8Ut"
   },
   "source": [
    "It's good practice to know what types your variables are. When you want to use numerical operations on them, they need to be compatible. "
   ]
  },
  {
   "cell_type": "code",
   "execution_count": 7,
   "metadata": {
    "colab": {
     "base_uri": "https://localhost:8080/",
     "height": 51
    },
    "colab_type": "code",
    "id": "8pr1-i7IVD-h",
    "outputId": "c2bce48d-b69f-4aab-95c1-9e588f67a6c3"
   },
   "outputs": [
    {
     "name": "stdout",
     "output_type": "stream",
     "text": [
      "510\n",
      "55553333\n"
     ]
    }
   ],
   "source": [
    "# int variables\n",
    "a = 10\n",
    "b = 500\n",
    "print (a + b) #changed a and b values\n",
    "\n",
    "# string variables\n",
    "a = \"5555\"\n",
    "b = \"3333\"\n",
    "print (a + b) #changed a and b values"
   ]
  },
  {
   "cell_type": "markdown",
   "metadata": {
    "colab_type": "text",
    "id": "q4R_UF6PVw4V"
   },
   "source": [
    "#  Lists"
   ]
  },
  {
   "cell_type": "markdown",
   "metadata": {
    "colab_type": "text",
    "id": "LvGsQBj4VjMl"
   },
   "source": [
    "Lists are objects in Python that can hold a ordered sequence of numbers **and** text."
   ]
  },
  {
   "cell_type": "code",
   "execution_count": 8,
   "metadata": {
    "colab": {
     "base_uri": "https://localhost:8080/",
     "height": 34
    },
    "colab_type": "code",
    "id": "9iPESkq9VvlX",
    "outputId": "67dfbe9f-d4cb-4a62-a812-7c5c8a01c2fa"
   },
   "outputs": [
    {
     "name": "stdout",
     "output_type": "stream",
     "text": [
      "['apple', 'banana', 'orange']\n"
     ]
    }
   ],
   "source": [
    "# Creating a list\n",
    "list_x = [\"apple\", \"banana\", \"orange\"] #changed list values to strings\n",
    "print (list_x)"
   ]
  },
  {
   "cell_type": "code",
   "execution_count": 9,
   "metadata": {
    "colab": {
     "base_uri": "https://localhost:8080/",
     "height": 34
    },
    "colab_type": "code",
    "id": "7lbajc-zV515",
    "outputId": "4345bbe0-0f0c-4f84-bcf2-a76130899f34"
   },
   "outputs": [
    {
     "name": "stdout",
     "output_type": "stream",
     "text": [
      "['apple', 'banana', 'orange', 'pineapple']\n"
     ]
    }
   ],
   "source": [
    "# Adding to a list\n",
    "list_x.append(\"pineapple\") #changed append value to another fruit\n",
    "print (list_x)"
   ]
  },
  {
   "cell_type": "code",
   "execution_count": 11,
   "metadata": {
    "colab": {
     "base_uri": "https://localhost:8080/",
     "height": 102
    },
    "colab_type": "code",
    "id": "W0xpIryJWCN9",
    "outputId": "a7676615-aff1-402f-d41f-81d004728f94"
   },
   "outputs": [
    {
     "name": "stdout",
     "output_type": "stream",
     "text": [
      "first item:  apple\n",
      "second item:  banana\n",
      "third item:  orange\n",
      "last item:  pineapple\n",
      "second to last item:  orange\n"
     ]
    }
   ],
   "source": [
    "# Accessing items at specific location in a list\n",
    "print (\"first item: \", list_x[0])\n",
    "print (\"second item: \", list_x[1])\n",
    "print (\"third item: \", list_x[2])\n",
    "print (\"last item: \", list_x[-1]) # the last item\n",
    "print (\"second to last item: \", list_x[-2]) # the second to last item\n",
    "\n",
    "##changed text to be more descriptive"
   ]
  },
  {
   "cell_type": "code",
   "execution_count": 16,
   "metadata": {
    "colab": {
     "base_uri": "https://localhost:8080/",
     "height": 85
    },
    "colab_type": "code",
    "id": "VSu_HNrnc1WK",
    "outputId": "3c40cce2-9599-41aa-b01c-7c6f39329212"
   },
   "outputs": [
    {
     "name": "stdout",
     "output_type": "stream",
     "text": [
      "full list:  ['apple', 'banana', 'orange', 'pineapple']\n",
      "third item on:  ['orange', 'pineapple']\n",
      "second and third item:  ['banana', 'orange']\n",
      "everything but last item:  ['apple', 'banana', 'orange']\n"
     ]
    }
   ],
   "source": [
    "# Slicing\n",
    "print (\"full list: \", list_x[:])\n",
    "print (\"third item on: \", list_x[2:])\n",
    "print (\"second and third item: \", list_x[1:3])\n",
    "print (\"everything but last item: \", list_x[:-1])\n",
    "\n",
    "##changed text to be more descriptive"
   ]
  },
  {
   "cell_type": "code",
   "execution_count": 18,
   "metadata": {
    "colab": {
     "base_uri": "https://localhost:8080/",
     "height": 34
    },
    "colab_type": "code",
    "id": "dImY-hVzWxB4",
    "outputId": "8394f232-aa11-4dbd-8580-70adb5adc807"
   },
   "outputs": [
    {
     "name": "stdout",
     "output_type": "stream",
     "text": [
      "the list has 4 items\n"
     ]
    }
   ],
   "source": [
    "# Length of a list\n",
    "len(list_x)\n",
    "print(\"the list has {} items\".format(len(list_x))) #prints out length of list using format"
   ]
  },
  {
   "cell_type": "code",
   "execution_count": 19,
   "metadata": {
    "colab": {
     "base_uri": "https://localhost:8080/",
     "height": 34
    },
    "colab_type": "code",
    "id": "3-reXDniW_sm",
    "outputId": "382d1a40-ad1a-49f7-f70f-2c2a02ffd88d"
   },
   "outputs": [
    {
     "name": "stdout",
     "output_type": "stream",
     "text": [
      "['apple', 'grape', 'orange', 'pineapple']\n"
     ]
    }
   ],
   "source": [
    "# Replacing items in a list\n",
    "list_x[1] = \"grape\" #changed value to new fruit name\n",
    "print (list_x)"
   ]
  },
  {
   "cell_type": "code",
   "execution_count": 20,
   "metadata": {
    "colab": {
     "base_uri": "https://localhost:8080/",
     "height": 34
    },
    "colab_type": "code",
    "id": "X8T5I3bjXJ0S",
    "outputId": "1ede1c5c-c6ea-452f-b13d-ff9efd3d53b0"
   },
   "outputs": [
    {
     "name": "stdout",
     "output_type": "stream",
     "text": [
      "['apple', 'grape', 'orange', 'pineapple', 'cucumber', 'pepper', 'onion']\n"
     ]
    }
   ],
   "source": [
    "# Combining lists\n",
    "list_y = [\"cucumber\", \"pepper\", \"onion\"] #changed list values\n",
    "list_z = list_x + list_y\n",
    "print (list_z)"
   ]
  },
  {
   "cell_type": "markdown",
   "metadata": {
    "colab_type": "text",
    "id": "ddpIO6LLVzh0"
   },
   "source": [
    "# Tuples"
   ]
  },
  {
   "cell_type": "markdown",
   "metadata": {
    "colab_type": "text",
    "id": "CAZblq7oXY3s"
   },
   "source": [
    "Tuples are also objects in Python that can hold data but you cannot replace their values (for this reason, tuples are called immutable, whereas lists are known as mutable)."
   ]
  },
  {
   "cell_type": "code",
   "execution_count": 27,
   "metadata": {
    "colab": {
     "base_uri": "https://localhost:8080/",
     "height": 34
    },
    "colab_type": "code",
    "id": "G95lu8xWXY90",
    "outputId": "c23250e5-534a-48e6-ed52-f034859f73c2"
   },
   "outputs": [
    {
     "name": "stdout",
     "output_type": "stream",
     "text": [
      "('red', 'blue', 'yellow')\n"
     ]
    }
   ],
   "source": [
    "# Creating a tuple\n",
    "tuple_x = (\"red\", \"blue\", \"yellow\") #change tuple values\n",
    "print (tuple_x)"
   ]
  },
  {
   "cell_type": "code",
   "execution_count": 28,
   "metadata": {
    "colab": {
     "base_uri": "https://localhost:8080/",
     "height": 34
    },
    "colab_type": "code",
    "id": "kq23Bej1acAP",
    "outputId": "34edfbff-dbc0-4385-a118-7f1bcc49e84f"
   },
   "outputs": [
    {
     "name": "stdout",
     "output_type": "stream",
     "text": [
      "('red', 'blue', 'yellow', 'green')\n"
     ]
    }
   ],
   "source": [
    "# Adding values to a tuple\n",
    "tuple_x = tuple_x + (\"green\",) #changed new item to add to tuple\n",
    "print (tuple_x)"
   ]
  },
  {
   "cell_type": "code",
   "execution_count": 29,
   "metadata": {
    "colab": {
     "base_uri": "https://localhost:8080/",
     "height": 164
    },
    "colab_type": "code",
    "id": "vyTmOc6BXkge",
    "outputId": "dadeac9a-4bb4-43a3-ff40-e8ca6a05ba2c"
   },
   "outputs": [
    {
     "ename": "TypeError",
     "evalue": "'tuple' object does not support item assignment",
     "output_type": "error",
     "traceback": [
      "\u001b[0;31m---------------------------------------------------------------------------\u001b[0m",
      "\u001b[0;31mTypeError\u001b[0m                                 Traceback (most recent call last)",
      "\u001b[0;32m<ipython-input-29-74805b7bbc29>\u001b[0m in \u001b[0;36m<module>\u001b[0;34m\u001b[0m\n\u001b[1;32m      1\u001b[0m \u001b[0;31m# Trying to change a tuples value (you can't, this should produce an error.)\u001b[0m\u001b[0;34m\u001b[0m\u001b[0;34m\u001b[0m\u001b[0;34m\u001b[0m\u001b[0m\n\u001b[0;32m----> 2\u001b[0;31m \u001b[0mtuple_x\u001b[0m\u001b[0;34m[\u001b[0m\u001b[0;36m1\u001b[0m\u001b[0;34m]\u001b[0m \u001b[0;34m=\u001b[0m \u001b[0;34m\"purple\"\u001b[0m\u001b[0;34m\u001b[0m\u001b[0;34m\u001b[0m\u001b[0m\n\u001b[0m",
      "\u001b[0;31mTypeError\u001b[0m: 'tuple' object does not support item assignment"
     ]
    }
   ],
   "source": [
    "# Trying to change a tuples value (you can't, this should produce an error.)\n",
    "tuple_x[1] = \"purple\" #changed name"
   ]
  },
  {
   "cell_type": "markdown",
   "metadata": {
    "colab_type": "text",
    "id": "UdlJHkwZV3Mz"
   },
   "source": [
    "# Dictionaries"
   ]
  },
  {
   "cell_type": "markdown",
   "metadata": {
    "colab_type": "text",
    "id": "azp3AoxYXS26"
   },
   "source": [
    "Dictionaries are Python objects that hold key-value pairs. In the example dictionary below, the keys are the \"name\" and \"eye_color\" variables. They each have a value associated with them. A dictionary cannot have two of the same keys. "
   ]
  },
  {
   "cell_type": "code",
   "execution_count": 32,
   "metadata": {
    "colab": {
     "base_uri": "https://localhost:8080/",
     "height": 68
    },
    "colab_type": "code",
    "id": "pXhNLbzpXXSk",
    "outputId": "e4bb80e5-4e7b-4cbb-daa6-77490ab25145"
   },
   "outputs": [
    {
     "name": "stdout",
     "output_type": "stream",
     "text": [
      "{'name': 'Sparky', 'eye_color': 'black'}\n",
      "the dog's name is Sparky\n",
      "the dog's eye color is black\n"
     ]
    }
   ],
   "source": [
    "# Creating a dictionary\n",
    "dog = {\"name\": \"Sparky\",\n",
    "        \"eye_color\": \"black\"} #changed name and color\n",
    "print (dog)\n",
    "print (\"the dog's name is \" + dog[\"name\"]) #made more descriptive\n",
    "print (\"the dog's eye color is \" + dog[\"eye_color\"]) #made more descriptive\n"
   ]
  },
  {
   "cell_type": "code",
   "execution_count": 33,
   "metadata": {
    "colab": {
     "base_uri": "https://localhost:8080/",
     "height": 34
    },
    "colab_type": "code",
    "id": "1HXtX8vQYjXa",
    "outputId": "ad8d1a0f-d134-4c87-99c1-0f77140f2de0"
   },
   "outputs": [
    {
     "name": "stdout",
     "output_type": "stream",
     "text": [
      "{'name': 'Sparky', 'eye_color': 'blue'}\n"
     ]
    }
   ],
   "source": [
    "# Changing the value for a key\n",
    "dog[\"eye_color\"] = \"blue\" #changed value\n",
    "print (dog)"
   ]
  },
  {
   "cell_type": "code",
   "execution_count": 36,
   "metadata": {
    "colab": {
     "base_uri": "https://localhost:8080/",
     "height": 34
    },
    "colab_type": "code",
    "id": "qn33iB0MY5dT",
    "outputId": "bd89033e-e307-4739-8c1d-f957c32385b5"
   },
   "outputs": [
    {
     "name": "stdout",
     "output_type": "stream",
     "text": [
      "{'name': 'Sparky', 'eye_color': 'blue', 'age': '7'}\n",
      "the dog's age is 7\n"
     ]
    }
   ],
   "source": [
    "# Adding new key-value pairs\n",
    "dog[\"age\"] = \"7\" #changed value\n",
    "print (dog)\n",
    "print (\"the dog's age is \" + dog[\"age\"])"
   ]
  },
  {
   "cell_type": "code",
   "execution_count": 39,
   "metadata": {
    "colab": {
     "base_uri": "https://localhost:8080/",
     "height": 34
    },
    "colab_type": "code",
    "id": "g9EYmzMKa9YV",
    "outputId": "4b9218b9-2f4d-4287-932a-caba430713aa"
   },
   "outputs": [
    {
     "name": "stdout",
     "output_type": "stream",
     "text": [
      "3\n",
      "there are 3 items in this dictionary\n"
     ]
    }
   ],
   "source": [
    "# Length of a dictionary\n",
    "print (len(dog))\n",
    "print (\"there are {} items in this dictionary\".format(len(dog))) #prints out how many items using format"
   ]
  },
  {
   "cell_type": "markdown",
   "metadata": {
    "colab_type": "text",
    "id": "B-DInx_Xo2vJ"
   },
   "source": [
    "# If statements"
   ]
  },
  {
   "cell_type": "markdown",
   "metadata": {
    "colab_type": "text",
    "id": "ZG_ICGRGo4tY"
   },
   "source": [
    "You can use `if` statements to conditionally do something."
   ]
  },
  {
   "cell_type": "code",
   "execution_count": 41,
   "metadata": {
    "colab": {
     "base_uri": "https://localhost:8080/",
     "height": 34
    },
    "colab_type": "code",
    "id": "uob9lQuKo4Pg",
    "outputId": "21d40476-ea6a-4149-f744-0119d0894d77"
   },
   "outputs": [
    {
     "name": "stdout",
     "output_type": "stream",
     "text": [
      "B\n"
     ]
    }
   ],
   "source": [
    "# If statement\n",
    "x = 8\n",
    "if x < 6:\n",
    "    score = \"C\"\n",
    "elif x <= 8:\n",
    "    score = \"B\"\n",
    "else:\n",
    "    score = \"A\"\n",
    "print (score) #changed score values"
   ]
  },
  {
   "cell_type": "code",
   "execution_count": 43,
   "metadata": {
    "colab": {
     "base_uri": "https://localhost:8080/",
     "height": 34
    },
    "colab_type": "code",
    "id": "vwsQaZqIpfJ3",
    "outputId": "1f190875-b910-4e54-a58a-d4230b7c8169"
   },
   "outputs": [
    {
     "name": "stdout",
     "output_type": "stream",
     "text": [
      "no it didn't\n"
     ]
    }
   ],
   "source": [
    "# If statment with a boolean\n",
    "x = False\n",
    "if x:\n",
    "    print (\"it worked\")\n",
    "else:\n",
    "    print (\"no it didn't\") #added else statement"
   ]
  },
  {
   "cell_type": "markdown",
   "metadata": {
    "colab_type": "text",
    "id": "sJ7NPGEKV6Ik"
   },
   "source": [
    "# Loops"
   ]
  },
  {
   "cell_type": "markdown",
   "metadata": {
    "colab_type": "text",
    "id": "YRVxhVCkn0vc"
   },
   "source": [
    "In Python, you can use `for` loop to iterate over the elements of a sequence such as a list or tuple, or use `while` loop to do something repeatedly as long as a condition holds."
   ]
  },
  {
   "cell_type": "code",
   "execution_count": 44,
   "metadata": {
    "colab": {
     "base_uri": "https://localhost:8080/",
     "height": 68
    },
    "colab_type": "code",
    "id": "OB5PtyqAn8mj",
    "outputId": "b4595670-99d4-473e-b299-bf8cf47f1d81"
   },
   "outputs": [
    {
     "name": "stdout",
     "output_type": "stream",
     "text": [
      "i=0, x=3\n",
      "i=1, x=5\n",
      "i=2, x=7\n",
      "i=3, x=9\n",
      "i=4, x=11\n",
      "i=5, x=13\n",
      "i=6, x=15\n",
      "i=7, x=17\n",
      "i=8, x=19\n",
      "i=9, x=21\n"
     ]
    }
   ],
   "source": [
    "# For loop\n",
    "x = 1\n",
    "for i in range(10): # goes from i=0 to i=9 #changed range\n",
    "    x += 2 # same as x = x + 2 #changed value\n",
    "    print (\"i={0}, x={1}\".format(i, x)) # printing with multiple variables"
   ]
  },
  {
   "cell_type": "code",
   "execution_count": 45,
   "metadata": {
    "colab": {
     "base_uri": "https://localhost:8080/",
     "height": 68
    },
    "colab_type": "code",
    "id": "6XyhCrFeoGj4",
    "outputId": "2427ae1f-85f7-4888-f47f-8de1992a84c3"
   },
   "outputs": [
    {
     "name": "stdout",
     "output_type": "stream",
     "text": [
      "i=0, x=20\n",
      "i=1, x=30\n",
      "i=2, x=40\n",
      "i=3, x=50\n",
      "i=4, x=60\n",
      "i=5, x=70\n"
     ]
    }
   ],
   "source": [
    "# Loop through items in a list\n",
    "x = 10\n",
    "for i in [0, 1, 2, 3, 4, 5]: #added to list\n",
    "    x += 10 #changed value\n",
    "    print (\"i={0}, x={1}\".format(i, x))"
   ]
  },
  {
   "cell_type": "code",
   "execution_count": 46,
   "metadata": {
    "colab": {
     "base_uri": "https://localhost:8080/",
     "height": 68
    },
    "colab_type": "code",
    "id": "5Tf2x4okp3fH",
    "outputId": "1ac41665-2f35-4c7d-e9f5-22614d3ba35c"
   },
   "outputs": [
    {
     "name": "stdout",
     "output_type": "stream",
     "text": [
      "2\n",
      "3\n",
      "4\n",
      "5\n",
      "6\n",
      "7\n",
      "8\n",
      "9\n",
      "10\n"
     ]
    }
   ],
   "source": [
    "# While loop\n",
    "x = 1\n",
    "while x < 10: #changed while statement\n",
    "    x += 1 # same as x = x + 1\n",
    "    print (x)"
   ]
  },
  {
   "cell_type": "markdown",
   "metadata": {
    "colab_type": "text",
    "id": "gJw-EDO9WBL_"
   },
   "source": [
    "# Functions"
   ]
  },
  {
   "cell_type": "markdown",
   "metadata": {
    "colab_type": "text",
    "id": "hDIOUdWCqBwa"
   },
   "source": [
    "Functions are a way to modularize reusable pieces of code. "
   ]
  },
  {
   "cell_type": "code",
   "execution_count": 47,
   "metadata": {
    "colab": {
     "base_uri": "https://localhost:8080/",
     "height": 34
    },
    "colab_type": "code",
    "id": "iin1ZXmMqA0y",
    "outputId": "3bfae4a7-482b-4d43-8350-f8bb5e8a35ac"
   },
   "outputs": [
    {
     "name": "stdout",
     "output_type": "stream",
     "text": [
      "10\n"
     ]
    }
   ],
   "source": [
    "# Create a function\n",
    "def multiply_two(x): #changed function\n",
    "    x = x * 2\n",
    "    return x\n",
    "\n",
    "# Use the function\n",
    "score = 5\n",
    "score = multiply_two(x=score)\n",
    "print (score)"
   ]
  },
  {
   "cell_type": "code",
   "execution_count": 54,
   "metadata": {
    "colab": {
     "base_uri": "https://localhost:8080/",
     "height": 34
    },
    "colab_type": "code",
    "id": "DC6x3DMrqlE3",
    "outputId": "8965bfab-3e20-41ae-9fc1-f22a7d4f3333"
   },
   "outputs": [
    {
     "name": "stdout",
     "output_type": "stream",
     "text": [
      "John Doe\n",
      "Tom Pike\n",
      "Brandon Mohr\n",
      "~list complete~\n"
     ]
    }
   ],
   "source": [
    "# Function with multiple inputs\n",
    "def join_name(first_name, last_name):\n",
    "    joined_name = first_name + \" \" + last_name\n",
    "    return joined_name\n",
    "\n",
    "# Use the function\n",
    "first_name = [\"John\", \"Tom\", \"Brandon\"] #changed string to a list with multiples values\n",
    "last_name = [\"Doe\", \"Pike\", \"Mohr\"] #changed string to a list with multiple values\n",
    "\n",
    "x = 0\n",
    "\n",
    "for i in first_name:\n",
    "    joined_name = join_name(first_name=first_name[x], last_name=last_name[x])\n",
    "    x += 1\n",
    "    print (joined_name)\n",
    "print (\"~list complete~\") #added for loop to print out each first and last name in the list"
   ]
  },
  {
   "cell_type": "markdown",
   "metadata": {
    "colab_type": "text",
    "id": "lBLa1n54WEd2"
   },
   "source": [
    "# Classes"
   ]
  },
  {
   "cell_type": "markdown",
   "metadata": {
    "colab_type": "text",
    "id": "mGua8QnArAZh"
   },
   "source": [
    "Classes are a fundamental piece of object oriented programming in Python."
   ]
  },
  {
   "cell_type": "code",
   "execution_count": 57,
   "metadata": {
    "colab": {},
    "colab_type": "code",
    "id": "DXmPwI1frAAd"
   },
   "outputs": [],
   "source": [
    "# Creating the class\n",
    "class Pets(object):\n",
    "  \n",
    "    # Initialize the class\n",
    "    def __init__(self, breed, color, name):\n",
    "        self.breed = breed\n",
    "        self.color = color\n",
    "        self.name = name\n",
    "\n",
    "    # For printing  \n",
    "    def __str__(self):\n",
    "        return \"{0} {1} named {2}.\".format(self.color, self.breed, self.name)\n",
    "\n",
    "    # Example function\n",
    "    def change_name(self, new_name):\n",
    "        self.name = new_name\n",
    "        \n",
    "#changed species to breed for below example"
   ]
  },
  {
   "cell_type": "code",
   "execution_count": 59,
   "metadata": {
    "colab": {
     "base_uri": "https://localhost:8080/",
     "height": 51
    },
    "colab_type": "code",
    "id": "ezQq_Fhhrqrv",
    "outputId": "bf159745-99b1-4e33-af4d-f63924a1fe74"
   },
   "outputs": [
    {
     "name": "stdout",
     "output_type": "stream",
     "text": [
      "black and white dalmation named Spots.\n",
      "my dog's name is Spots\n"
     ]
    }
   ],
   "source": [
    "# Creating an instance of a class\n",
    "my_dog = Pets(breed=\"dalmation\", color=\"black and white\", name=\"Spots\",)\n",
    "print (my_dog)\n",
    "print (\"my dog's name is \" + my_dog.name) #added descriptive text"
   ]
  },
  {
   "cell_type": "code",
   "execution_count": 60,
   "metadata": {
    "colab": {
     "base_uri": "https://localhost:8080/",
     "height": 51
    },
    "colab_type": "code",
    "id": "qTinlRj1szc5",
    "outputId": "80939a31-0242-4465-95ff-da0e5caaa67c"
   },
   "outputs": [
    {
     "name": "stdout",
     "output_type": "stream",
     "text": [
      "black and white dalmation named Spots Jr..\n",
      "Spots Jr.\n"
     ]
    }
   ],
   "source": [
    "# Using a class's function\n",
    "my_dog.change_name(new_name=\"Spots Jr.\") #changed new name\n",
    "print (my_dog)\n",
    "print (my_dog.name)"
   ]
  },
  {
   "cell_type": "markdown",
   "metadata": {
    "colab_type": "text",
    "id": "kiWtd0aJtNtY"
   },
   "source": [
    "# Additional resources"
   ]
  },
  {
   "cell_type": "markdown",
   "metadata": {
    "colab_type": "text",
    "id": "cfLF4ktmtSC3"
   },
   "source": [
    "This was a very quick look at Python and we'll be learning more in future lessons. If you want to learn more right now before diving into machine learning, check out this free course: [Free Python Course](https://www.codecademy.com/learn/learn-python)"
   ]
  }
 ],
 "metadata": {
  "colab": {
   "collapsed_sections": [],
   "name": "01_Python",
   "provenance": [],
   "toc_visible": true,
   "version": "0.3.2"
  },
  "kernelspec": {
   "display_name": "Python 3",
   "language": "python",
   "name": "python3"
  },
  "language_info": {
   "codemirror_mode": {
    "name": "ipython",
    "version": 3
   },
   "file_extension": ".py",
   "mimetype": "text/x-python",
   "name": "python",
   "nbconvert_exporter": "python",
   "pygments_lexer": "ipython3",
   "version": "3.8.3"
  }
 },
 "nbformat": 4,
 "nbformat_minor": 4
}
